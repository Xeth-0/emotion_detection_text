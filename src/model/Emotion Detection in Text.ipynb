{
 "cells": [
  {
   "cell_type": "markdown",
   "id": "56cccab6",
   "metadata": {},
   "source": [
    "# Emotions Detection in Text"
   ]
  },
  {
   "cell_type": "code",
   "execution_count": 39,
   "id": "f0814628-3d83-4fd6-a511-2eccf79f9f1e",
   "metadata": {},
   "outputs": [],
   "source": [
    "import pandas as pd\n",
    "import numpy as np\n",
    "import nltk \n",
    "\n",
    "import joblib\n",
    "\n",
    "# Load Data Viz Pkgs\n",
    "import seaborn as sns\n",
    "\n",
    "# Load Text Cleaning Pkgs\n",
    "import neattext.functions as nfx\n",
    "\n",
    "# Loading ML pkgs\n",
    "from sklearn.pipeline import Pipeline\n",
    "from sklearn.linear_model import LogisticRegression\n",
    "from sklearn.metrics import accuracy_score, mean_squared_error, confusion_matrix, classification_report\n",
    "from sklearn.naive_bayes import MultinomialNB\n",
    "\n",
    "# Data Transformers\n",
    "from sklearn.feature_extraction.text import CountVectorizer, TfidfVectorizer\n",
    "from sklearn.model_selection import train_test_split\n",
    "from sklearn.metrics import accuracy_score,classification_report,confusion_matrix, f1_score\n",
    "\n",
    "import matplotlib.pyplot as plt"
   ]
  },
  {
   "cell_type": "markdown",
   "id": "93f5b1ff",
   "metadata": {},
   "source": [
    "## Data Loading and Visualization"
   ]
  },
  {
   "cell_type": "markdown",
   "id": "b0e15826",
   "metadata": {},
   "source": [
    "This section of the notebook is dedicated to the exploration and visualization of the emotion datasets.\n",
    "We will be loading multiple datasets that contain text and their corresponding emotional labels.\n",
    "The datasets include:\n",
    "\n",
    "1. **Text Emotions Dataset**: This dataset contains various text samples along with their associated emotions.\n",
    "2. **Emotion Phrases Dataset**: This dataset includes phrases that are categorized by different emotions.\n",
    "3. **Emotion Words Dataset**: This dataset consists of individual words that are linked to specific emotions.\n",
    "\n",
    "After loading the datasets, we will perform the following operations:\n",
    "- **Renaming Columns**: We will ensure that the columns are consistently named across datasets for easier merging.\n",
    "- **Concatenating Datasets**: We will combine all the datasets into a single DataFrame for comprehensive analysis.\n",
    "- **Sampling Data**: A random sample of the combined dataset will be displayed to give an overview of the data structure and content.\n",
    "\n",
    "This exploration will help us understand the distribution of emotions in the datasets and prepare for further data cleaning and analysis.\n"
   ]
  },
  {
   "cell_type": "markdown",
   "id": "a90053a5",
   "metadata": {},
   "source": [
    "### Loading the Data"
   ]
  },
  {
   "cell_type": "code",
   "execution_count": 40,
   "id": "b209e004-ab77-4407-8689-b4318944d47f",
   "metadata": {},
   "outputs": [
    {
     "data": {
      "text/html": [
       "<div>\n",
       "<style scoped>\n",
       "    .dataframe tbody tr th:only-of-type {\n",
       "        vertical-align: middle;\n",
       "    }\n",
       "\n",
       "    .dataframe tbody tr th {\n",
       "        vertical-align: top;\n",
       "    }\n",
       "\n",
       "    .dataframe thead th {\n",
       "        text-align: right;\n",
       "    }\n",
       "</style>\n",
       "<table border=\"1\" class=\"dataframe\">\n",
       "  <thead>\n",
       "    <tr style=\"text-align: right;\">\n",
       "      <th></th>\n",
       "      <th>Text</th>\n",
       "      <th>Emotion</th>\n",
       "    </tr>\n",
       "  </thead>\n",
       "  <tbody>\n",
       "    <tr>\n",
       "      <th>0</th>\n",
       "      <td>i didnt feel humiliated</td>\n",
       "      <td>sadness</td>\n",
       "    </tr>\n",
       "    <tr>\n",
       "      <th>1</th>\n",
       "      <td>i can go from feeling so hopeless to so damned...</td>\n",
       "      <td>sadness</td>\n",
       "    </tr>\n",
       "    <tr>\n",
       "      <th>2</th>\n",
       "      <td>im grabbing a minute to post i feel greedy wrong</td>\n",
       "      <td>anger</td>\n",
       "    </tr>\n",
       "    <tr>\n",
       "      <th>3</th>\n",
       "      <td>i am ever feeling nostalgic about the fireplac...</td>\n",
       "      <td>love</td>\n",
       "    </tr>\n",
       "    <tr>\n",
       "      <th>4</th>\n",
       "      <td>i am feeling grouchy</td>\n",
       "      <td>anger</td>\n",
       "    </tr>\n",
       "  </tbody>\n",
       "</table>\n",
       "</div>"
      ],
      "text/plain": [
       "                                                Text  Emotion\n",
       "0                            i didnt feel humiliated  sadness\n",
       "1  i can go from feeling so hopeless to so damned...  sadness\n",
       "2   im grabbing a minute to post i feel greedy wrong    anger\n",
       "3  i am ever feeling nostalgic about the fireplac...     love\n",
       "4                               i am feeling grouchy    anger"
      ]
     },
     "execution_count": 40,
     "metadata": {},
     "output_type": "execute_result"
    }
   ],
   "source": [
    "# Load Dataset\n",
    "df1 = pd.read_csv(\"./data/input/text_emotions.csv\")\n",
    "\n",
    "# Add another dataset on top of this\n",
    "df2 = pd.read_csv(\"./data/input/Emotion Phrases.csv\")\n",
    "# Rename the \"Word\" column to \"Text\"\n",
    "\n",
    "df3 = pd.read_csv(\"./data/input/Emotion Words.csv\")\n",
    "df3 = df3.rename(columns={\"Word\": \"Text\"})\n",
    "\n",
    "df1.head()"
   ]
  },
  {
   "cell_type": "code",
   "execution_count": 41,
   "id": "3bff683f",
   "metadata": {},
   "outputs": [
    {
     "data": {
      "text/html": [
       "<div>\n",
       "<style scoped>\n",
       "    .dataframe tbody tr th:only-of-type {\n",
       "        vertical-align: middle;\n",
       "    }\n",
       "\n",
       "    .dataframe tbody tr th {\n",
       "        vertical-align: top;\n",
       "    }\n",
       "\n",
       "    .dataframe thead th {\n",
       "        text-align: right;\n",
       "    }\n",
       "</style>\n",
       "<table border=\"1\" class=\"dataframe\">\n",
       "  <thead>\n",
       "    <tr style=\"text-align: right;\">\n",
       "      <th></th>\n",
       "      <th>Emotion</th>\n",
       "      <th>Text</th>\n",
       "    </tr>\n",
       "  </thead>\n",
       "  <tbody>\n",
       "    <tr>\n",
       "      <th>0</th>\n",
       "      <td>joy</td>\n",
       "      <td>[ On days when I feel close to my partner and ...</td>\n",
       "    </tr>\n",
       "    <tr>\n",
       "      <th>1</th>\n",
       "      <td>fear</td>\n",
       "      <td>Every time I imagine that someone I love or I ...</td>\n",
       "    </tr>\n",
       "    <tr>\n",
       "      <th>2</th>\n",
       "      <td>anger</td>\n",
       "      <td>When I had been obviously unjustly treated and...</td>\n",
       "    </tr>\n",
       "    <tr>\n",
       "      <th>3</th>\n",
       "      <td>sadness</td>\n",
       "      <td>When I think about the short time that we live...</td>\n",
       "    </tr>\n",
       "    <tr>\n",
       "      <th>4</th>\n",
       "      <td>disgust</td>\n",
       "      <td>At a gathering I found myself involuntarily si...</td>\n",
       "    </tr>\n",
       "  </tbody>\n",
       "</table>\n",
       "</div>"
      ],
      "text/plain": [
       "   Emotion                                               Text\n",
       "0      joy  [ On days when I feel close to my partner and ...\n",
       "1     fear  Every time I imagine that someone I love or I ...\n",
       "2    anger  When I had been obviously unjustly treated and...\n",
       "3  sadness  When I think about the short time that we live...\n",
       "4  disgust  At a gathering I found myself involuntarily si..."
      ]
     },
     "execution_count": 41,
     "metadata": {},
     "output_type": "execute_result"
    }
   ],
   "source": [
    "df2.head()"
   ]
  },
  {
   "cell_type": "code",
   "execution_count": 16,
   "id": "b1d41c14",
   "metadata": {},
   "outputs": [
    {
     "data": {
      "text/html": [
       "<div>\n",
       "<style scoped>\n",
       "    .dataframe tbody tr th:only-of-type {\n",
       "        vertical-align: middle;\n",
       "    }\n",
       "\n",
       "    .dataframe tbody tr th {\n",
       "        vertical-align: top;\n",
       "    }\n",
       "\n",
       "    .dataframe thead th {\n",
       "        text-align: right;\n",
       "    }\n",
       "</style>\n",
       "<table border=\"1\" class=\"dataframe\">\n",
       "  <thead>\n",
       "    <tr style=\"text-align: right;\">\n",
       "      <th></th>\n",
       "      <th>Text</th>\n",
       "      <th>Emotion</th>\n",
       "    </tr>\n",
       "  </thead>\n",
       "  <tbody>\n",
       "    <tr>\n",
       "      <th>0</th>\n",
       "      <td>abhor</td>\n",
       "      <td>anger</td>\n",
       "    </tr>\n",
       "    <tr>\n",
       "      <th>1</th>\n",
       "      <td>abhorr</td>\n",
       "      <td>anger</td>\n",
       "    </tr>\n",
       "    <tr>\n",
       "      <th>2</th>\n",
       "      <td>abhorr</td>\n",
       "      <td>disgust</td>\n",
       "    </tr>\n",
       "    <tr>\n",
       "      <th>3</th>\n",
       "      <td>abhorrence</td>\n",
       "      <td>anger</td>\n",
       "    </tr>\n",
       "    <tr>\n",
       "      <th>4</th>\n",
       "      <td>abhorrent</td>\n",
       "      <td>disgust</td>\n",
       "    </tr>\n",
       "  </tbody>\n",
       "</table>\n",
       "</div>"
      ],
      "text/plain": [
       "         Text  Emotion\n",
       "0       abhor    anger\n",
       "1      abhorr    anger\n",
       "2      abhorr  disgust\n",
       "3  abhorrence    anger\n",
       "4   abhorrent  disgust"
      ]
     },
     "execution_count": 42,
     "metadata": {},
     "output_type": "execute_result"
    }
   ],
   "source": [
    "df3.head()"
   ]
  },
  {
   "cell_type": "code",
   "execution_count": 17,
   "id": "5709874b",
   "metadata": {},
   "outputs": [
    {
     "data": {
      "text/html": [
       "<div>\n",
       "<style scoped>\n",
       "    .dataframe tbody tr th:only-of-type {\n",
       "        vertical-align: middle;\n",
       "    }\n",
       "\n",
       "    .dataframe tbody tr th {\n",
       "        vertical-align: top;\n",
       "    }\n",
       "\n",
       "    .dataframe thead th {\n",
       "        text-align: right;\n",
       "    }\n",
       "</style>\n",
       "<table border=\"1\" class=\"dataframe\">\n",
       "  <thead>\n",
       "    <tr style=\"text-align: right;\">\n",
       "      <th></th>\n",
       "      <th>Text</th>\n",
       "      <th>Emotion</th>\n",
       "    </tr>\n",
       "  </thead>\n",
       "  <tbody>\n",
       "    <tr>\n",
       "      <th>20578</th>\n",
       "      <td>When my brother was very late in arriving home...</td>\n",
       "      <td>fear</td>\n",
       "    </tr>\n",
       "    <tr>\n",
       "      <th>26563</th>\n",
       "      <td>I felt disgust when I received visitors at an ...</td>\n",
       "      <td>disgust</td>\n",
       "    </tr>\n",
       "    <tr>\n",
       "      <th>9451</th>\n",
       "      <td>im still feeling terrible even though ive had ...</td>\n",
       "      <td>sadness</td>\n",
       "    </tr>\n",
       "    <tr>\n",
       "      <th>3674</th>\n",
       "      <td>i feel more content with what i have achieved ...</td>\n",
       "      <td>joy</td>\n",
       "    </tr>\n",
       "    <tr>\n",
       "      <th>25842</th>\n",
       "      <td>A party with no worries (i.e. no tests homewor...</td>\n",
       "      <td>joy</td>\n",
       "    </tr>\n",
       "    <tr>\n",
       "      <th>22483</th>\n",
       "      <td>I felt joy when I entered at the University.</td>\n",
       "      <td>joy</td>\n",
       "    </tr>\n",
       "    <tr>\n",
       "      <th>16821</th>\n",
       "      <td>i don t know how i feel i guess it s one of th...</td>\n",
       "      <td>love</td>\n",
       "    </tr>\n",
       "    <tr>\n",
       "      <th>18872</th>\n",
       "      <td>i feel that he was completely humiliated and h...</td>\n",
       "      <td>sadness</td>\n",
       "    </tr>\n",
       "    <tr>\n",
       "      <th>13120</th>\n",
       "      <td>i just want people to leave me alone and not m...</td>\n",
       "      <td>sadness</td>\n",
       "    </tr>\n",
       "    <tr>\n",
       "      <th>17322</th>\n",
       "      <td>i started to feel so overwhelmed</td>\n",
       "      <td>fear</td>\n",
       "    </tr>\n",
       "  </tbody>\n",
       "</table>\n",
       "</div>"
      ],
      "text/plain": [
       "                                                    Text  Emotion\n",
       "20578  When my brother was very late in arriving home...     fear\n",
       "26563  I felt disgust when I received visitors at an ...  disgust\n",
       "9451   im still feeling terrible even though ive had ...  sadness\n",
       "3674   i feel more content with what i have achieved ...      joy\n",
       "25842  A party with no worries (i.e. no tests homewor...      joy\n",
       "22483       I felt joy when I entered at the University.      joy\n",
       "16821  i don t know how i feel i guess it s one of th...     love\n",
       "18872  i feel that he was completely humiliated and h...  sadness\n",
       "13120  i just want people to leave me alone and not m...  sadness\n",
       "17322                   i started to feel so overwhelmed     fear"
      ]
     },
     "execution_count": 43,
     "metadata": {},
     "output_type": "execute_result"
    }
   ],
   "source": [
    "df = pd.concat([df1, df2, df3], ignore_index=True)\n",
    "df.sample(10)"
   ]
  },
  {
   "cell_type": "markdown",
   "id": "77616981",
   "metadata": {},
   "source": [
    "### Dataset Visualization"
   ]
  },
  {
   "cell_type": "code",
   "execution_count": 18,
   "id": "430565a3-cf3b-4c6f-afa5-bafd084f5676",
   "metadata": {},
   "outputs": [
    {
     "data": {
      "text/plain": [
       "Emotion\n",
       "joy         8406\n",
       "sadness     7165\n",
       "anger       4158\n",
       "fear        3661\n",
       "love        1641\n",
       "disgust     1164\n",
       "shame       1094\n",
       "guilt       1091\n",
       "surprise     814\n",
       "Name: count, dtype: int64"
      ]
     },
     "execution_count": 44,
     "metadata": {},
     "output_type": "execute_result"
    }
   ],
   "source": [
    "# Value Counts\n",
    "df['Emotion'].value_counts()"
   ]
  },
  {
   "cell_type": "code",
   "execution_count": 19,
   "id": "531d3449-a959-4a19-bff0-3ffed551e619",
   "metadata": {},
   "outputs": [
    {
     "data": {
      "text/plain": [
       "<Axes: xlabel='Emotion', ylabel='count'>"
      ]
     },
     "execution_count": 45,
     "metadata": {},
     "output_type": "execute_result"
    },
    {
     "data": {
      "image/png": "[encoded data removed]",
      "text/plain": [
       "<Figure size 640x480 with 1 Axes>"
      ]
     },
     "metadata": {},
     "output_type": "display_data"
    }
   ],
   "source": [
    "# Plot\n",
    "sns.countplot(x='Emotion',data=df, palette='viridis', hue='Emotion')"
   ]
  },
  {
   "cell_type": "markdown",
   "id": "c65ba0d3",
   "metadata": {},
   "source": [
    "### Cleaning the data"
   ]
  },
  {
   "cell_type": "markdown",
   "id": "db73a62d",
   "metadata": {},
   "source": [
    "### Stemming (Morphological Analysis)"
   ]
  },
  {
   "cell_type": "markdown",
   "id": "c8220e75",
   "metadata": {},
   "source": [
    "Stemming is a text normalization technique that reduces words to their root form. This process involves reducing complex words into their root morphemes.\n",
    "\n",
    "This process helps in treating different forms of a word as the same, which is particularly useful in text analysis. \n",
    "For example, words like \"running\", \"ran\", and \"runner\" would all be reduced to the root word \"run\". \n",
    "By applying stemming, we can improve the efficiency of our emotion detection model by reducing the dimensionality of the text data, \n",
    "allowing it to focus on the core meaning of the words rather than their variations.\n"
   ]
  },
  {
   "cell_type": "code",
   "execution_count": 20,
   "id": "094396c3",
   "metadata": {},
   "outputs": [],
   "source": [
    "def stemmer(text):\n",
    "  ps = nltk.porter.PorterStemmer()\n",
    "  text = '.'.join([ps.stem(word) for word in text.split()])\n",
    "  return text"
   ]
  },
  {
   "cell_type": "markdown",
   "id": "59f7c09e",
   "metadata": {},
   "source": [
    "This section of the notebook is dedicated to the data cleaning process. \n",
    "Data cleaning is a crucial step in preparing the dataset for analysis and modeling. \n",
    "In this part, we will perform several operations to ensure that the text data is in a suitable format for further processing. \n",
    "The operations include:\n",
    "\n",
    "1. **Removing Punctuations**: Punctuations can interfere with text analysis, so we will remove them from the text.\n",
    "2. **Removing User Handles**: Since the dataset originates from social media, user handles (e.g., @username) will be removed to avoid bias in the analysis.\n",
    "3. **Removing Stopwords**: Common words that do not contribute to the meaning of the text (e.g., \"and\", \"the\") will be eliminated.\n",
    "4. **Removing Digits**: Any numerical values will be removed as they may not be relevant to the emotional content of the text.\n",
    "5. **Removing Special Characters**: Special characters that do not add value to the analysis will be removed.\n",
    "6. **Stemming**: Words will be reduced to their root form to ensure that different forms of a word are treated as the same (e.g., \"running\" becomes \"run\").\n",
    "\n",
    "After these cleaning steps, we will have a more uniform and relevant dataset that is ready for emotion detection analysis.\n"
   ]
  },
  {
   "cell_type": "code",
   "execution_count": 21,
   "id": "b1f87847-a91c-4bd6-a307-d746eb5aa9a0",
   "metadata": {},
   "outputs": [
    {
     "data": {
      "text/html": [
       "<div>\n",
       "<style scoped>\n",
       "    .dataframe tbody tr th:only-of-type {\n",
       "        vertical-align: middle;\n",
       "    }\n",
       "\n",
       "    .dataframe tbody tr th {\n",
       "        vertical-align: top;\n",
       "    }\n",
       "\n",
       "    .dataframe thead th {\n",
       "        text-align: right;\n",
       "    }\n",
       "</style>\n",
       "<table border=\"1\" class=\"dataframe\">\n",
       "  <thead>\n",
       "    <tr style=\"text-align: right;\">\n",
       "      <th></th>\n",
       "      <th>Text</th>\n",
       "      <th>Emotion</th>\n",
       "      <th>Clean_Text</th>\n",
       "    </tr>\n",
       "  </thead>\n",
       "  <tbody>\n",
       "    <tr>\n",
       "      <th>0</th>\n",
       "      <td>i didnt feel humiliated</td>\n",
       "      <td>sadness</td>\n",
       "      <td>didnt.feel.humili</td>\n",
       "    </tr>\n",
       "    <tr>\n",
       "      <th>1</th>\n",
       "      <td>i can go from feeling so hopeless to so damned...</td>\n",
       "      <td>sadness</td>\n",
       "      <td>feel.hopeless.damn.hope.care.awak</td>\n",
       "    </tr>\n",
       "    <tr>\n",
       "      <th>2</th>\n",
       "      <td>im grabbing a minute to post i feel greedy wrong</td>\n",
       "      <td>anger</td>\n",
       "      <td>im.grab.minut.post.feel.greedi.wrong</td>\n",
       "    </tr>\n",
       "    <tr>\n",
       "      <th>3</th>\n",
       "      <td>i am ever feeling nostalgic about the fireplac...</td>\n",
       "      <td>love</td>\n",
       "      <td>feel.nostalg.fireplac.know.properti</td>\n",
       "    </tr>\n",
       "    <tr>\n",
       "      <th>4</th>\n",
       "      <td>i am feeling grouchy</td>\n",
       "      <td>anger</td>\n",
       "      <td>feel.grouchi</td>\n",
       "    </tr>\n",
       "  </tbody>\n",
       "</table>\n",
       "</div>"
      ],
      "text/plain": [
       "                                                Text  Emotion  \\\n",
       "0                            i didnt feel humiliated  sadness   \n",
       "1  i can go from feeling so hopeless to so damned...  sadness   \n",
       "2   im grabbing a minute to post i feel greedy wrong    anger   \n",
       "3  i am ever feeling nostalgic about the fireplac...     love   \n",
       "4                               i am feeling grouchy    anger   \n",
       "\n",
       "                             Clean_Text  \n",
       "0                     didnt.feel.humili  \n",
       "1     feel.hopeless.damn.hope.care.awak  \n",
       "2  im.grab.minut.post.feel.greedi.wrong  \n",
       "3   feel.nostalg.fireplac.know.properti  \n",
       "4                          feel.grouchi  "
      ]
     },
     "execution_count": 47,
     "metadata": {},
     "output_type": "execute_result"
    }
   ],
   "source": [
    "df['Clean_Text'] = df['Text']\n",
    "\n",
    "# Remove punctuations\n",
    "df['Clean_Text'] = df['Clean_Text'].apply(nfx.remove_punctuations)\n",
    "\n",
    "# User handles - Remove User Handles from Text Data\n",
    "df['Clean_Text'] = df['Clean_Text'].apply(nfx.remove_userhandles) # Since the dataset is from social media, we can remove user handles without much loss of information\n",
    "\n",
    "# Stopwords\n",
    "df['Clean_Text'] = df['Clean_Text'].apply(nfx.remove_stopwords)\n",
    "\n",
    "# Remove Digits\n",
    "df['Clean_Text'] = df['Clean_Text'].apply(nfx.remove_numbers)\n",
    "\n",
    "# Remove Special Characters\n",
    "df['Clean_Text'] = df['Clean_Text'].apply(nfx.remove_special_characters)\n",
    "\n",
    "# Stemming\n",
    "df['Clean_Text'] = df['Clean_Text'].apply(stemmer)\n",
    "\n",
    "df.head()\n"
   ]
  },
  {
   "cell_type": "markdown",
   "id": "58852ef7",
   "metadata": {},
   "source": [
    "### Stemming"
   ]
  },
  {
   "cell_type": "markdown",
   "id": "0ffcf4c7",
   "metadata": {},
   "source": [
    "We are not removing Special Characters as some of the rows have just Special Characters and it'll result into empty row."
   ]
  },
  {
   "cell_type": "code",
   "execution_count": 22,
   "id": "0a0fcc0c-4adf-4f0b-b226-164659ad70ba",
   "metadata": {
    "jupyter": {
     "outputs_hidden": true
    },
    "tags": []
   },
   "outputs": [
    {
     "data": {
      "text/html": [
       "<div>\n",
       "<style scoped>\n",
       "    .dataframe tbody tr th:only-of-type {\n",
       "        vertical-align: middle;\n",
       "    }\n",
       "\n",
       "    .dataframe tbody tr th {\n",
       "        vertical-align: top;\n",
       "    }\n",
       "\n",
       "    .dataframe thead th {\n",
       "        text-align: right;\n",
       "    }\n",
       "</style>\n",
       "<table border=\"1\" class=\"dataframe\">\n",
       "  <thead>\n",
       "    <tr style=\"text-align: right;\">\n",
       "      <th></th>\n",
       "      <th>Text</th>\n",
       "      <th>Emotion</th>\n",
       "      <th>Clean_Text</th>\n",
       "    </tr>\n",
       "  </thead>\n",
       "  <tbody>\n",
       "    <tr>\n",
       "      <th>0</th>\n",
       "      <td>i didnt feel humiliated</td>\n",
       "      <td>sadness</td>\n",
       "      <td>didnt.feel.humili</td>\n",
       "    </tr>\n",
       "    <tr>\n",
       "      <th>1</th>\n",
       "      <td>i can go from feeling so hopeless to so damned...</td>\n",
       "      <td>sadness</td>\n",
       "      <td>feel.hopeless.damn.hope.care.awak</td>\n",
       "    </tr>\n",
       "    <tr>\n",
       "      <th>2</th>\n",
       "      <td>im grabbing a minute to post i feel greedy wrong</td>\n",
       "      <td>anger</td>\n",
       "      <td>im.grab.minut.post.feel.greedi.wrong</td>\n",
       "    </tr>\n",
       "    <tr>\n",
       "      <th>3</th>\n",
       "      <td>i am ever feeling nostalgic about the fireplac...</td>\n",
       "      <td>love</td>\n",
       "      <td>feel.nostalg.fireplac.know.properti</td>\n",
       "    </tr>\n",
       "    <tr>\n",
       "      <th>4</th>\n",
       "      <td>i am feeling grouchy</td>\n",
       "      <td>anger</td>\n",
       "      <td>feel.grouchi</td>\n",
       "    </tr>\n",
       "    <tr>\n",
       "      <th>...</th>\n",
       "      <td>...</td>\n",
       "      <td>...</td>\n",
       "      <td>...</td>\n",
       "    </tr>\n",
       "    <tr>\n",
       "      <th>29189</th>\n",
       "      <td>yucky</td>\n",
       "      <td>disgust</td>\n",
       "      <td>yucki</td>\n",
       "    </tr>\n",
       "    <tr>\n",
       "      <th>29190</th>\n",
       "      <td>zeal</td>\n",
       "      <td>joy</td>\n",
       "      <td>zeal</td>\n",
       "    </tr>\n",
       "    <tr>\n",
       "      <th>29191</th>\n",
       "      <td>zealous</td>\n",
       "      <td>joy</td>\n",
       "      <td>zealou</td>\n",
       "    </tr>\n",
       "    <tr>\n",
       "      <th>29192</th>\n",
       "      <td>zest</td>\n",
       "      <td>joy</td>\n",
       "      <td>zest</td>\n",
       "    </tr>\n",
       "    <tr>\n",
       "      <th>29193</th>\n",
       "      <td>zestfulness</td>\n",
       "      <td>joy</td>\n",
       "      <td>zest</td>\n",
       "    </tr>\n",
       "  </tbody>\n",
       "</table>\n",
       "<p>29188 rows × 3 columns</p>\n",
       "</div>"
      ],
      "text/plain": [
       "                                                    Text  Emotion  \\\n",
       "0                                i didnt feel humiliated  sadness   \n",
       "1      i can go from feeling so hopeless to so damned...  sadness   \n",
       "2       im grabbing a minute to post i feel greedy wrong    anger   \n",
       "3      i am ever feeling nostalgic about the fireplac...     love   \n",
       "4                                   i am feeling grouchy    anger   \n",
       "...                                                  ...      ...   \n",
       "29189                                              yucky  disgust   \n",
       "29190                                               zeal      joy   \n",
       "29191                                            zealous      joy   \n",
       "29192                                               zest      joy   \n",
       "29193                                        zestfulness      joy   \n",
       "\n",
       "                                 Clean_Text  \n",
       "0                         didnt.feel.humili  \n",
       "1         feel.hopeless.damn.hope.care.awak  \n",
       "2      im.grab.minut.post.feel.greedi.wrong  \n",
       "3       feel.nostalg.fireplac.know.properti  \n",
       "4                              feel.grouchi  \n",
       "...                                     ...  \n",
       "29189                                 yucki  \n",
       "29190                                  zeal  \n",
       "29191                                zealou  \n",
       "29192                                  zest  \n",
       "29193                                  zest  \n",
       "\n",
       "[29188 rows x 3 columns]"
      ]
     },
     "execution_count": 48,
     "metadata": {},
     "output_type": "execute_result"
    }
   ],
   "source": [
    "# remove empty rows\n",
    "df = df[df['Clean_Text'] != '']\n",
    "df"
   ]
  },
  {
   "cell_type": "code",
   "execution_count": 23,
   "id": "3df7b6b8",
   "metadata": {},
   "outputs": [],
   "source": [
    "# delete duplicates\n",
    "df = df.drop_duplicates()"
   ]
  },
  {
   "cell_type": "code",
   "execution_count": 24,
   "id": "450c39c0-79dd-4eaf-85fe-57e344eb81bd",
   "metadata": {},
   "outputs": [],
   "source": [
    "# Features & Labels\n",
    "Xfeatures = df['Clean_Text']\n",
    "ylabels = df['Emotion']\n",
    "\n",
    "#  Split Data\n",
    "x_train,x_test,y_train,y_test = train_test_split(Xfeatures,ylabels,test_size=0.2,random_state=42)"
   ]
  },
  {
   "cell_type": "markdown",
   "id": "3dd13c79",
   "metadata": {},
   "source": [
    "### Building the model pipeline\n",
    "\n",
    "We need to prepare a pipeline for the tokenizer and the classification model together."
   ]
  },
  {
   "cell_type": "code",
   "execution_count": 25,
   "id": "6b81cc86-2bef-40c2-b9a3-668caaadaff0",
   "metadata": {},
   "outputs": [],
   "source": [
    "# LogisticRegression Pipeline\n",
    "# pipe_lr = Pipeline(steps=[('cv',CountVectorizer(ngram_range=(1,4))),('lr',LogisticRegression(penalty='l2', C=1.0, max_iter=500, random_state=42))])\n",
    "pipe_lr = Pipeline(steps=[('tf',TfidfVectorizer(ngram_range=(1,4))),('lr',LogisticRegression(penalty='l2', C=1.0, max_iter=1000, random_state=42))], verbose=True)"
   ]
  },
  {
   "cell_type": "code",
   "execution_count": 52,
   "id": "dc64b9a7-efe2-4bc4-a0e7-46dff1d52b31",
   "metadata": {
    "jupyter": {
     "outputs_hidden": true
    },
    "scrolled": false,
    "tags": []
   },
   "outputs": [
    {
     "name": "stdout",
     "output_type": "stream",
     "text": [
      "[Pipeline] ................ (step 1 of 2) Processing tf, total=   3.1s\n",
      "[Pipeline] ................ (step 2 of 2) Processing lr, total= 1.8min\n"
     ]
    },
    {
     "data": {
      "text/html": [
       "<style>#sk-container-id-2 {color: black;}#sk-container-id-2 pre{padding: 0;}#sk-container-id-2 div.sk-toggleable {background-color: white;}#sk-container-id-2 label.sk-toggleable__label {cursor: pointer;display: block;width: 100%;margin-bottom: 0;padding: 0.3em;box-sizing: border-box;text-align: center;}#sk-container-id-2 label.sk-toggleable__label-arrow:before {content: \"▸\";float: left;margin-right: 0.25em;color: #696969;}#sk-container-id-2 label.sk-toggleable__label-arrow:hover:before {color: black;}#sk-container-id-2 div.sk-estimator:hover label.sk-toggleable__label-arrow:before {color: black;}#sk-container-id-2 div.sk-toggleable__content {max-height: 0;max-width: 0;overflow: hidden;text-align: left;background-color: #f0f8ff;}#sk-container-id-2 div.sk-toggleable__content pre {margin: 0.2em;color: black;border-radius: 0.25em;background-color: #f0f8ff;}#sk-container-id-2 input.sk-toggleable__control:checked~div.sk-toggleable__content {max-height: 200px;max-width: 100%;overflow: auto;}#sk-container-id-2 input.sk-toggleable__control:checked~label.sk-toggleable__label-arrow:before {content: \"▾\";}#sk-container-id-2 div.sk-estimator input.sk-toggleable__control:checked~label.sk-toggleable__label {background-color: #d4ebff;}#sk-container-id-2 div.sk-label input.sk-toggleable__control:checked~label.sk-toggleable__label {background-color: #d4ebff;}#sk-container-id-2 input.sk-hidden--visually {border: 0;clip: rect(1px 1px 1px 1px);clip: rect(1px, 1px, 1px, 1px);height: 1px;margin: -1px;overflow: hidden;padding: 0;position: absolute;width: 1px;}#sk-container-id-2 div.sk-estimator {font-family: monospace;background-color: #f0f8ff;border: 1px dotted black;border-radius: 0.25em;box-sizing: border-box;margin-bottom: 0.5em;}#sk-container-id-2 div.sk-estimator:hover {background-color: #d4ebff;}#sk-container-id-2 div.sk-parallel-item::after {content: \"\";width: 100%;border-bottom: 1px solid gray;flex-grow: 1;}#sk-container-id-2 div.sk-label:hover label.sk-toggleable__label {background-color: #d4ebff;}#sk-container-id-2 div.sk-serial::before {content: \"\";position: absolute;border-left: 1px solid gray;box-sizing: border-box;top: 0;bottom: 0;left: 50%;z-index: 0;}#sk-container-id-2 div.sk-serial {display: flex;flex-direction: column;align-items: center;background-color: white;padding-right: 0.2em;padding-left: 0.2em;position: relative;}#sk-container-id-2 div.sk-item {position: relative;z-index: 1;}#sk-container-id-2 div.sk-parallel {display: flex;align-items: stretch;justify-content: center;background-color: white;position: relative;}#sk-container-id-2 div.sk-item::before, #sk-container-id-2 div.sk-parallel-item::before {content: \"\";position: absolute;border-left: 1px solid gray;box-sizing: border-box;top: 0;bottom: 0;left: 50%;z-index: -1;}#sk-container-id-2 div.sk-parallel-item {display: flex;flex-direction: column;z-index: 1;position: relative;background-color: white;}#sk-container-id-2 div.sk-parallel-item:first-child::after {align-self: flex-end;width: 50%;}#sk-container-id-2 div.sk-parallel-item:last-child::after {align-self: flex-start;width: 50%;}#sk-container-id-2 div.sk-parallel-item:only-child::after {width: 0;}#sk-container-id-2 div.sk-dashed-wrapped {border: 1px dashed gray;margin: 0 0.4em 0.5em 0.4em;box-sizing: border-box;padding-bottom: 0.4em;background-color: white;}#sk-container-id-2 div.sk-label label {font-family: monospace;font-weight: bold;display: inline-block;line-height: 1.2em;}#sk-container-id-2 div.sk-label-container {text-align: center;}#sk-container-id-2 div.sk-container {/* jupyter's `normalize.less` sets `[hidden] { display: none; }` but bootstrap.min.css set `[hidden] { display: none !important; }` so we also need the `!important` here to be able to override the default hidden behavior on the sphinx rendered scikit-learn.org. See: https://github.com/scikit-learn/scikit-learn/issues/21755 */display: inline-block !important;position: relative;}#sk-container-id-2 div.sk-text-repr-fallback {display: none;}</style><div id=\"sk-container-id-2\" class=\"sk-top-container\"><div class=\"sk-text-repr-fallback\"><pre>Pipeline(steps=[(&#x27;tf&#x27;, TfidfVectorizer(ngram_range=(1, 4))),\n",
       "                (&#x27;lr&#x27;, LogisticRegression(max_iter=1000, random_state=42))],\n",
       "         verbose=True)</pre><b>In a Jupyter environment, please rerun this cell to show the HTML representation or trust the notebook. <br />On GitHub, the HTML representation is unable to render, please try loading this page with nbviewer.org.</b></div><div class=\"sk-container\" hidden><div class=\"sk-item sk-dashed-wrapped\"><div class=\"sk-label-container\"><div class=\"sk-label sk-toggleable\"><input class=\"sk-toggleable__control sk-hidden--visually\" id=\"sk-estimator-id-4\" type=\"checkbox\" ><label for=\"sk-estimator-id-4\" class=\"sk-toggleable__label sk-toggleable__label-arrow\">Pipeline</label><div class=\"sk-toggleable__content\"><pre>Pipeline(steps=[(&#x27;tf&#x27;, TfidfVectorizer(ngram_range=(1, 4))),\n",
       "                (&#x27;lr&#x27;, LogisticRegression(max_iter=1000, random_state=42))],\n",
       "         verbose=True)</pre></div></div></div><div class=\"sk-serial\"><div class=\"sk-item\"><div class=\"sk-estimator sk-toggleable\"><input class=\"sk-toggleable__control sk-hidden--visually\" id=\"sk-estimator-id-5\" type=\"checkbox\" ><label for=\"sk-estimator-id-5\" class=\"sk-toggleable__label sk-toggleable__label-arrow\">TfidfVectorizer</label><div class=\"sk-toggleable__content\"><pre>TfidfVectorizer(ngram_range=(1, 4))</pre></div></div></div><div class=\"sk-item\"><div class=\"sk-estimator sk-toggleable\"><input class=\"sk-toggleable__control sk-hidden--visually\" id=\"sk-estimator-id-6\" type=\"checkbox\" ><label for=\"sk-estimator-id-6\" class=\"sk-toggleable__label sk-toggleable__label-arrow\">LogisticRegression</label><div class=\"sk-toggleable__content\"><pre>LogisticRegression(max_iter=1000, random_state=42)</pre></div></div></div></div></div></div></div>"
      ],
      "text/plain": [
       "Pipeline(steps=[('tf', TfidfVectorizer(ngram_range=(1, 4))),\n",
       "                ('lr', LogisticRegression(max_iter=1000, random_state=42))],\n",
       "         verbose=True)"
      ]
     },
     "execution_count": 52,
     "metadata": {},
     "output_type": "execute_result"
    }
   ],
   "source": [
    "# Train and Fit Data\n",
    "pipe_lr.fit(x_train,y_train)"
   ]
  },
  {
   "cell_type": "markdown",
   "id": "3a1efce6",
   "metadata": {},
   "source": [
    "### Testing the model and visualizing the results"
   ]
  },
  {
   "cell_type": "code",
   "execution_count": 55,
   "id": "28396371-5f5c-4a3b-b974-164e047764f3",
   "metadata": {},
   "outputs": [
    {
     "name": "stdout",
     "output_type": "stream",
     "text": [
      "Accuracy: 0.7413526071244192\n"
     ]
    }
   ],
   "source": [
    "# Check Accuracy and Classification Report\n",
    "pipe_lr.score(x_test,y_test)\n",
    "\n",
    "# Classification Reportev\n",
    "\n",
    "# Evaluate the model\n",
    "y_pred = pipe_lr.predict(x_test)\n",
    "\n",
    "# Print the accuracy\n",
    "print(\"Accuracy:\", pipe_lr.score(x_test, y_test))\n"
   ]
  },
  {
   "cell_type": "code",
   "execution_count": 56,
   "id": "4c91cf1a",
   "metadata": {},
   "outputs": [
    {
     "data": {
      "image/png": "[encoded data removed]",
      "text/plain": [
       "<Figure size 1500x600 with 2 Axes>"
      ]
     },
     "metadata": {},
     "output_type": "display_data"
    }
   ],
   "source": [
    "# Generate the classification report\n",
    "report = classification_report(y_test, y_pred, output_dict=True, target_names=pipe_lr.classes_)\n",
    "report['accuracy'] = accuracy_score(y_test, y_pred)\n",
    "report['macro avg']['f1-score'] = f1_score(y_test, y_pred, average='macro')\n",
    "report['weighted avg']['f1-score'] = f1_score(y_test, y_pred, average='weighted')\n",
    "\n",
    "# Create a DataFrame for better visualization\n",
    "report_df = pd.DataFrame(report).transpose()\n",
    "# Plotting the classification report\n",
    "plt.figure(figsize=(15, 6))\n",
    "sns.heatmap(report_df.iloc[:-1, :].T.drop('support'), annot=True, fmt='.2f', cmap='viridis', cbar=True)\n",
    "plt.title('Classification Report')\n",
    "plt.xlabel('Classes')\n",
    "plt.ylabel('Metrics')\n",
    "plt.show()\n"
   ]
  },
  {
   "cell_type": "code",
   "execution_count": 58,
   "id": "681fc9cd",
   "metadata": {},
   "outputs": [
    {
     "data": {
      "text/plain": [
       "['./emotion_classifier.joblib']"
      ]
     },
     "execution_count": 58,
     "metadata": {},
     "output_type": "execute_result"
    }
   ],
   "source": [
    "# Saving the model\n",
    "model_path = \"./emotion_classifier.joblib\"\n",
    "joblib.dump(pipe_lr, model_path)"
   ]
  },
  {
   "cell_type": "code",
   "execution_count": 59,
   "id": "e0de32e2",
   "metadata": {},
   "outputs": [
    {
     "name": "stderr",
     "output_type": "stream",
     "text": [
      "[nltk_data] Downloading package punkt_tab to\n",
      "[nltk_data]     C:\\Users\\Xeth\\AppData\\Roaming\\nltk_data...\n",
      "[nltk_data]   Package punkt_tab is already up-to-date!\n"
     ]
    },
    {
     "name": "stdout",
     "output_type": "stream",
     "text": [
      "Paragraph:  The sun was shining brightly in the sky. The birds were chirping. The flowers were blooming. The children were playing in the park. The world seemed like an ok place.\n",
      "Emotion Probabilities:  {'anger': 0.13715780294292915, 'disgust': 0.04925820684163745, 'fear': 0.10143760389220297, 'guilt': 0.05123577482394171, 'joy': 0.35967189125646415, 'love': 0.047101670178699304, 'sadness': 0.1742053338305293, 'shame': 0.05221825983742279, 'surprise': 0.027713456396173168}\n",
      "Predicted Emotion:  joy\n"
     ]
    }
   ],
   "source": [
    "# Function to use the trained model to predict the emotion of a given paragraph (not a single sentence)\n",
    "# Model works with only sentences, so we need to split the paragraph into sentences and then predict the \n",
    "# emotion of each sentence. Then, we can find the average emotion of the paragraph, and the percentage of each emotion in the paragraph.\n",
    "\n",
    "nltk.download(\"punkt_tab\")\n",
    "def predict_text_emotion(text: str, model_path: str) -> tuple:\n",
    "    # Load the model\n",
    "    model = joblib.load(model_path)\n",
    "\n",
    "    # Split the text into sentences\n",
    "    sentences = nltk.tokenize.sent_tokenize(text)\n",
    "\n",
    "    # Predict the probabilities of each emotion for each sentence\n",
    "    probabilities = [model.predict_proba([sentence]) for sentence in sentences]\n",
    "\n",
    "    # Predict the most likely emotion for each sentence\n",
    "    emotions = [model.predict([sentence]) for sentence in sentences]\n",
    "\n",
    "    # Return the probabilities of the emotions over the entire text(average of the probabilities of each sentence) and the most likely emotion\n",
    "    # Return it in json format: {\"probabilities\": {emotion: probability}, \"top_emotion\": emotion}\n",
    "    # Calculate the average probabilities for each emotion\n",
    "    avg_probabilities = {}\n",
    "    for prob in probabilities:\n",
    "        for emotion, value in zip(model.classes_, prob[0]):\n",
    "            if emotion not in avg_probabilities:\n",
    "                avg_probabilities[emotion] = 0\n",
    "            avg_probabilities[emotion] += value / len(probabilities)\n",
    "\n",
    "    # Determine the most likely emotion for the entire text\n",
    "    top_emotion = max(avg_probabilities, key=avg_probabilities.get)\n",
    "\n",
    "    # Return the result in the specified format\n",
    "    return {\n",
    "        \"probabilities\": avg_probabilities,\n",
    "        \"top_emotion\": top_emotion\n",
    "    }\n",
    "\n",
    "# Test the function\n",
    "paragraph = \"The sun was shining brightly in the sky. The birds were chirping. The flowers were blooming. The children were playing in the park. The world seemed like an ok place.\"\n",
    "\n",
    "print(\"Paragraph: \", paragraph)\n",
    "pred = predict_text_emotion(paragraph, model_path)\n",
    "print(\"Emotion Probabilities: \", pred[\"probabilities\"])\n",
    "print(\"Predicted Emotion: \", pred[\"top_emotion\"])"
   ]
  }
 ],
 "metadata": {
  "kernelspec": {
   "display_name": "Python 3",
   "language": "python",
   "name": "python3"
  },
  "language_info": {
   "codemirror_mode": {
    "name": "ipython",
    "version": 3
   },
   "file_extension": ".py",
   "mimetype": "text/x-python",
   "name": "python",
   "nbconvert_exporter": "python",
   "pygments_lexer": "ipython3",
   "version": "3.11.7"
  }
 },
 "nbformat": 4,
 "nbformat_minor": 5
}
